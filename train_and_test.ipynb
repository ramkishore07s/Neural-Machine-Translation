{
 "cells": [
  {
   "cell_type": "code",
   "execution_count": null,
   "metadata": {},
   "outputs": [],
   "source": [
    "%run utils.ipynb\n",
    "%run seq2seq.ipynb\n",
    "%run seq2seq_with_attention.ipynb\n",
    "%run effective_approaches.ipynb\n",
    "%run coverage.ipynb"
   ]
  },
  {
   "cell_type": "code",
   "execution_count": null,
   "metadata": {},
   "outputs": [],
   "source": [
    "torch.cuda.set_device(0)"
   ]
  },
  {
   "cell_type": "code",
   "execution_count": null,
   "metadata": {},
   "outputs": [],
   "source": [
    "d = Dataset(source_files, target_files, batch_size=10)\n",
    "embedding_dim = 50\n",
    "hidden_dim = 100\n",
    "num_layers = 2"
   ]
  },
  {
   "cell_type": "code",
   "execution_count": null,
   "metadata": {},
   "outputs": [],
   "source": [
    "def train_and_save(m, d, str_, coverage=False, coverage_type=\"linguistic\", log=False):\n",
    "    prev_score = -1\n",
    "    for i in range(30):\n",
    "        train(m, d, coverage, coverage_type, log=log)\n",
    "        score = eval(m, d)\n",
    "        best_state = None\n",
    "        print()\n",
    "        print(score)\n",
    "        if score > prev_score:\n",
    "            #torch.save(m.state_dict(), str_ + str(score)[:4] + \".params_\")\n",
    "            best_state = m.state_dict()\n",
    "            prev_score = score\n",
    "            \n",
    "    torch.save(best_state, str_ + str(prev_score)[:6] + \".params\")\n",
    "    print(prev_score)"
   ]
  },
  {
   "cell_type": "code",
   "execution_count": null,
   "metadata": {},
   "outputs": [],
   "source": [
    "m = Seq2Seq(d.len_source, d.len_target, embedding_dim, hidden_dim, num_layers=2, \n",
    "            padding_dim_source=d.source_pad, padding_dim_target=d.target_pad, start_dim_target=d.target_start)\n",
    "print(m.cuda())\n",
    "train_and_save(m, d, \"seq2seq_\")"
   ]
  },
  {
   "cell_type": "code",
   "execution_count": null,
   "metadata": {},
   "outputs": [],
   "source": [
    "m = Seq2SeqWithAttention(d.len_source, d.len_target, embedding_dim, hidden_dim, num_layers=2, \n",
    "            padding_dim_source=d.source_pad, padding_dim_target=d.target_pad, start_dim_target=d.target_start)\n",
    "print(m.cuda())\n",
    "train_and_save(m, d, \"attention_\")"
   ]
  },
  {
   "cell_type": "code",
   "execution_count": null,
   "metadata": {},
   "outputs": [],
   "source": [
    "m = Seq2Seq_EffectiveApproaches(d.len_source, d.len_target, embedding_dim, hidden_dim, num_layers=2, \n",
    "            padding_dim_source=d.source_pad, padding_dim_target=d.target_pad, start_dim_target=d.target_start,\n",
    "            Attention=Attention_General)\n",
    "print(m.cuda())\n",
    "train_and_save(m, d, \"eff_attn_gen_\")"
   ]
  },
  {
   "cell_type": "code",
   "execution_count": null,
   "metadata": {},
   "outputs": [],
   "source": [
    "m = Seq2Seq_EffectiveApproaches(d.len_source, d.len_target, embedding_dim, hidden_dim, num_layers=2, \n",
    "            padding_dim_source=d.source_pad, padding_dim_target=d.target_pad, start_dim_target=d.target_start,\n",
    "            Attention=Attention_Dot)\n",
    "print(m.cuda())\n",
    "train_and_save(m, d, \"eff_attn_dot_\")"
   ]
  },
  {
   "cell_type": "code",
   "execution_count": null,
   "metadata": {},
   "outputs": [],
   "source": [
    "m = Seq2Seq_EffectiveApproaches(d.len_source, d.len_target, embedding_dim, hidden_dim, num_layers=2, \n",
    "            padding_dim_source=d.source_pad, padding_dim_target=d.target_pad, start_dim_target=d.target_start,\n",
    "            Attention=Attention_Concat)\n",
    "print(m.cuda())\n",
    "train_and_save(m, d, \"eff_attn_concat_\")"
   ]
  },
  {
   "cell_type": "code",
   "execution_count": null,
   "metadata": {},
   "outputs": [],
   "source": [
    "# also works with attn dot and attn concat\n",
    "m = Seq2Seq_Coverage(d.len_source, d.len_target, embedding_dim, hidden_dim, num_layers=2, \n",
    "            padding_dim_source=d.source_pad, padding_dim_target=d.target_pad, start_dim_target=d.target_start,\n",
    "            Attention=Attention_General)\n",
    "print(m.cuda())\n",
    "train_and_save(m, d, \"coverage_attn_gen_ling_\", True, \"linguistic\")"
   ]
  },
  {
   "cell_type": "code",
   "execution_count": null,
   "metadata": {},
   "outputs": [],
   "source": [
    "# also works with attn dot and attn concat\n",
    "m = Seq2Seq_Coverage(d.len_source, d.len_target, embedding_dim, hidden_dim, num_layers=2, \n",
    "            padding_dim_source=d.source_pad, padding_dim_target=d.target_pad, start_dim_target=d.target_start,\n",
    "            Attention=Attention_General)\n",
    "print(m.cuda())\n",
    "train_and_save(m, d, \"coverage_attn_gen_fert_\", True, \"fertility\")"
   ]
  }
 ],
 "metadata": {
  "kernelspec": {
   "display_name": "AI",
   "language": "python",
   "name": "ai"
  },
  "language_info": {
   "codemirror_mode": {
    "name": "ipython",
    "version": 3
   },
   "file_extension": ".py",
   "mimetype": "text/x-python",
   "name": "python",
   "nbconvert_exporter": "python",
   "pygments_lexer": "ipython3",
   "version": "3.6.6"
  }
 },
 "nbformat": 4,
 "nbformat_minor": 2
}
