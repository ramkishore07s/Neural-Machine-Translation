{
 "cells": [
  {
   "cell_type": "code",
   "execution_count": 5,
   "metadata": {},
   "outputs": [],
   "source": [
    "%run effective_approaches.ipynb"
   ]
  },
  {
   "cell_type": "code",
   "execution_count": 36,
   "metadata": {},
   "outputs": [],
   "source": [
    "class Decoder_Coverage(nn.Module):\n",
    "\n",
    "    def __init__(self, num_embeddings, embedding_dim, hidden_dim, num_layers, \n",
    "                 padding_dim=0, start_dim=1, Attention=Attention_General):\n",
    "        \n",
    "        super().__init__()\n",
    "        self.embedding = nn.Embedding(num_embeddings, embedding_dim, padding_dim)\n",
    "        self.decoder = nn.LSTM(embedding_dim, hidden_dim, num_layers, batch_first=True)\n",
    "        self.word_predictor = nn.Linear(hidden_dim * 2, num_embeddings)\n",
    "        self.start_dim = start_dim\n",
    "        \n",
    "        self.attention = Attention(hidden_dim)        \n",
    "        self.fertility = nn.Linear(hidden_dim, 1)\n",
    "        \n",
    "    def forward(self, output, h, c, input=None, max_sen_len=20, source_mask=None):\n",
    "        \n",
    "        source_h = output\n",
    "        num_sentences, num_words, hidden_dim = output.shape\n",
    "        words_selected = torch.cuda.LongTensor([[self.start_dim] for _ in range(num_sentences)])\n",
    "\n",
    "        source_h_importance = self.fertility(source_h.reshape(num_sentences * num_words, -1)).reshape(num_sentences, num_words)\n",
    "        \n",
    "        decoder_context = torch.zeros(num_sentences, hidden_dim).cuda()\n",
    "        pred = []\n",
    "        attention_weights = []\n",
    "        \n",
    "        if input is not None:\n",
    "            max_sen_len = input.shape[1]\n",
    "            teacher_words = input.t()\n",
    "        \n",
    "        for i in range(max_sen_len):\n",
    "            embeddings = self.embedding(words_selected)\n",
    "            h_t, (h, c) = self.decoder(embeddings, (h, c))\n",
    "            orig_shape = h_t.shape\n",
    "            \n",
    "            ct, _attn_weights = self.attention(source_h, h[-1])\n",
    "            h_t_ = torch.cat((ct, h[-1]), dim=1)\n",
    "            attention_weights.append(_attn_weights)\n",
    "            \n",
    "            pred_t = self.word_predictor(h_t_.reshape(orig_shape[0]*orig_shape[1], \n",
    "                                                     -1)).reshape(*orig_shape[:-1], -1).squeeze(1)\n",
    "            pred.append(pred_t)\n",
    "            decoder_context = self.attention(source_h, h[-1])\n",
    "            \n",
    "            if input is None:\n",
    "                words_selected = torch.max(pred_t, dim=1)[1].unsqueeze(1)\n",
    "            else:\n",
    "                words_selected = teacher_words[i].unsqueeze(1)\n",
    "\n",
    "\n",
    "        pred = torch.stack(pred, dim=1)\n",
    "        attention_weights = torch.stack(attention_weights, dim=-1)\n",
    "        \n",
    "        return torch.log_softmax(pred, dim=-1), (attention_weights, source_h_importance)"
   ]
  },
  {
   "cell_type": "code",
   "execution_count": 37,
   "metadata": {},
   "outputs": [],
   "source": [
    "class Seq2Seq_Coverage(nn.Module):\n",
    "    def __init__(self, source_vocab_len, target_vocab_len, embedding_dim, hidden_dim, num_layers=2,\n",
    "                       padding_dim_source=0, start_dim_target=1, padding_dim_target=0, Attention=Attention_General):\n",
    "        super().__init__()\n",
    "        self.encoder = Encoder(source_vocab_len, embedding_dim, hidden_dim, num_layers, padding_dim_source)\n",
    "        self.decoder = Decoder_Coverage(target_vocab_len, embedding_dim, hidden_dim, num_layers, \n",
    "                                        padding_dim_target, start_dim_target, Attention=Attention)\n",
    "        \n",
    "    def forward(self, source_input, target_input=None, source_mask=None):\n",
    "        output, h, c = self.encoder(source_input)\n",
    "        return self.decoder(output, h, c, target_input)"
   ]
  },
  {
   "cell_type": "markdown",
   "metadata": {},
   "source": [
    "```\n",
    "s = Seq2Seq_Coverage(10, 12, 9, 8, Attention=Attention_Concat)\n",
    "s.cuda()\n",
    "input = torch.cuda.LongTensor(np.random.randint(0, 10, (3, 6)))\n",
    "target = torch.cuda.LongTensor(np.random.randint(0, 12, (3, 10)))\n",
    "\n",
    "# without teacher forcing\n",
    "pred, (attn_weights, fertility) = s(input)\n",
    "\n",
    "# with teacher forcing\n",
    "pred, (attn_weights, fertility) = s(input, target)\n",
    "```"
   ]
  },
  {
   "cell_type": "code",
   "execution_count": 39,
   "metadata": {},
   "outputs": [],
   "source": [
    "s = Seq2Seq_Coverage(10, 12, 9, 8, Attention=Attention_Concat)\n",
    "s.cuda()\n",
    "input = torch.cuda.LongTensor(np.random.randint(0, 10, (3, 6)))\n",
    "target = torch.cuda.LongTensor(np.random.randint(0, 12, (3, 10)))\n",
    "\n",
    "# without teacher forcing\n",
    "pred, (attn_weights, fertility) = s(input)\n",
    "\n",
    "# with teacher forcing\n",
    "pred, (attn_weights, fertility) = s(input, target)"
   ]
  },
  {
   "cell_type": "code",
   "execution_count": 40,
   "metadata": {},
   "outputs": [
    {
     "data": {
      "text/plain": [
       "tensor([[-0.3678, -0.3860, -0.3827, -0.3883, -0.3942, -0.3919],\n",
       "        [-0.3572, -0.3705, -0.3810, -0.3873, -0.3939, -0.3961],\n",
       "        [-0.3397, -0.3767, -0.3804, -0.3896, -0.4011, -0.3916]],\n",
       "       device='cuda:0', grad_fn=<AsStridedBackward>)"
      ]
     },
     "execution_count": 40,
     "metadata": {},
     "output_type": "execute_result"
    }
   ],
   "source": [
    "fertility"
   ]
  },
  {
   "cell_type": "code",
   "execution_count": 41,
   "metadata": {},
   "outputs": [],
   "source": [
    "l = nn.MSELoss()"
   ]
  },
  {
   "cell_type": "code",
   "execution_count": 48,
   "metadata": {},
   "outputs": [
    {
     "data": {
      "text/plain": [
       "tensor(4.1976, device='cuda:0', grad_fn=<MeanBackward1>)"
      ]
     },
     "execution_count": 48,
     "metadata": {},
     "output_type": "execute_result"
    }
   ],
   "source": [
    "l(torch.sum(attn_weights, dim=-1), fertility)"
   ]
  },
  {
   "cell_type": "code",
   "execution_count": 47,
   "metadata": {},
   "outputs": [
    {
     "data": {
      "text/plain": [
       "tensor([[1.6686, 1.6659, 1.6656, 1.6594, 1.6682, 1.6723],\n",
       "        [1.6411, 1.6560, 1.6658, 1.6754, 1.6878, 1.6739],\n",
       "        [1.6503, 1.6634, 1.6704, 1.6681, 1.6725, 1.6753]], device='cuda:0',\n",
       "       grad_fn=<SumBackward2>)"
      ]
     },
     "execution_count": 47,
     "metadata": {},
     "output_type": "execute_result"
    }
   ],
   "source": [
    "torch.sum(attn_weights, dim=-1)"
   ]
  },
  {
   "cell_type": "code",
   "execution_count": null,
   "metadata": {},
   "outputs": [],
   "source": []
  }
 ],
 "metadata": {
  "kernelspec": {
   "display_name": "AI",
   "language": "python",
   "name": "ai"
  },
  "language_info": {
   "codemirror_mode": {
    "name": "ipython",
    "version": 3
   },
   "file_extension": ".py",
   "mimetype": "text/x-python",
   "name": "python",
   "nbconvert_exporter": "python",
   "pygments_lexer": "ipython3",
   "version": "3.6.6"
  }
 },
 "nbformat": 4,
 "nbformat_minor": 2
}
