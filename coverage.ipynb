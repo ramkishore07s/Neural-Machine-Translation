{
 "cells": [
  {
   "cell_type": "code",
   "execution_count": 5,
   "metadata": {},
   "outputs": [],
   "source": [
    "%run effective_approaches.ipynb"
   ]
  },
  {
   "cell_type": "code",
   "execution_count": 36,
   "metadata": {},
   "outputs": [],
   "source": [
    "class Decoder_Coverage(nn.Module):\n",
    "\n",
    "    def __init__(self, num_embeddings, embedding_dim, hidden_dim, num_layers, \n",
    "                 padding_dim=0, start_dim=1, Attention=Attention_General):\n",
    "        \n",
    "        super().__init__()\n",
    "        self.embedding = nn.Embedding(num_embeddings, embedding_dim, padding_dim)\n",
    "        self.decoder = nn.LSTM(embedding_dim, hidden_dim, num_layers, batch_first=True)\n",
    "        self.word_predictor = nn.Linear(hidden_dim * 2, num_embeddings)\n",
    "        self.start_dim = start_dim\n",
    "        \n",
    "        self.attention = Attention(hidden_dim)        \n",
    "        self.fertility = nn.Linear(hidden_dim, 1)\n",
    "        \n",
    "    def forward(self, output, h, c, input=None, max_sen_len=20):\n",
    "        \n",
    "        source_h = output\n",
    "        num_sentences, num_words, hidden_dim = output.shape\n",
    "        words_selected = torch.cuda.LongTensor([[self.start_dim] for _ in range(num_sentences)])\n",
    "\n",
    "        source_h_importance = self.fertility(source_h.reshape(num_sentences * num_words, -1)).reshape(num_sentences, num_words)\n",
    "        \n",
    "        decoder_context = torch.zeros(num_sentences, hidden_dim).cuda()\n",
    "        pred = []\n",
    "        attention_weights = []\n",
    "        \n",
    "        if input is not None:\n",
    "            max_sen_len = input.shape[1]\n",
    "            teacher_words = input.t()\n",
    "        \n",
    "        for i in range(max_sen_len):\n",
    "            embeddings = self.embedding(words_selected)\n",
    "            h_t, (h, c) = self.decoder(embeddings, (h, c))\n",
    "            orig_shape = h_t.shape\n",
    "            \n",
    "            ct, _attn_weights = self.attention(source_h, h[-1])\n",
    "            h_t_ = torch.cat((ct, h[-1]), dim=1)\n",
    "            attention_weights.append(_attn_weights)\n",
    "            \n",
    "            pred_t = self.word_predictor(h_t_.reshape(orig_shape[0]*orig_shape[1], \n",
    "                                                     -1)).reshape(*orig_shape[:-1], -1).squeeze(1)\n",
    "            pred.append(pred_t)\n",
    "            decoder_context = self.attention(source_h, h[-1])\n",
    "            \n",
    "            if input is None:\n",
    "                words_selected = torch.max(pred_t, dim=1)[1].unsqueeze(1)\n",
    "            else:\n",
    "                words_selected = teacher_words[i].unsqueeze(1)\n",
    "\n",
    "\n",
    "        pred = torch.stack(pred, dim=1)\n",
    "        attention_weights = torch.stack(attention_weights, dim=-1)\n",
    "        \n",
    "        return torch.log_softmax(pred, dim=-1), (attention_weights, source_h_importance)"
   ]
  },
  {
   "cell_type": "code",
   "execution_count": 37,
   "metadata": {},
   "outputs": [],
   "source": [
    "class Seq2Seq_Coverage(nn.Module):\n",
    "    def __init__(self, source_vocab_len, target_vocab_len, embedding_dim, hidden_dim, num_layers=2,\n",
    "                       padding_dim_source=0, start_dim_target=1, padding_dim_target=0, Attention=Attention_General):\n",
    "        super().__init__()\n",
    "        self.encoder = Encoder(source_vocab_len, embedding_dim, hidden_dim, num_layers, padding_dim_source)\n",
    "        self.decoder = Decoder_Coverage(target_vocab_len, embedding_dim, hidden_dim, num_layers, \n",
    "                                        padding_dim_target, start_dim_target, Attention=Attention)\n",
    "        \n",
    "    def forward(self, source_input, target_input=None, source_mask=None):\n",
    "        output, h, c = self.encoder(source_input)\n",
    "        return self.decoder(output, h, c, target_input)"
   ]
  },
  {
   "cell_type": "markdown",
   "metadata": {},
   "source": [
    "```\n",
    "s = Seq2Seq_Coverage(10, 12, 9, 8, Attention=Attention_Concat)\n",
    "s.cuda()\n",
    "input = torch.cuda.LongTensor(np.random.randint(0, 10, (3, 6)))\n",
    "target = torch.cuda.LongTensor(np.random.randint(0, 12, (3, 10)))\n",
    "\n",
    "# without teacher forcing\n",
    "s(input)\n",
    "\n",
    "# with teacher forcing\n",
    "s(input, target)[1].shape\n",
    "```"
   ]
  },
  {
   "cell_type": "code",
   "execution_count": 38,
   "metadata": {},
   "outputs": [
    {
     "data": {
      "text/plain": [
       "(tensor([[[0.1659, 0.1659, 0.1659, 0.1659, 0.1659, 0.1659, 0.1659, 0.1659,\n",
       "           0.1659, 0.1659],\n",
       "          [0.1665, 0.1665, 0.1665, 0.1665, 0.1665, 0.1665, 0.1665, 0.1665,\n",
       "           0.1665, 0.1665],\n",
       "          [0.1671, 0.1671, 0.1671, 0.1671, 0.1671, 0.1671, 0.1671, 0.1671,\n",
       "           0.1671, 0.1671],\n",
       "          [0.1674, 0.1674, 0.1674, 0.1674, 0.1674, 0.1674, 0.1674, 0.1674,\n",
       "           0.1674, 0.1674],\n",
       "          [0.1662, 0.1662, 0.1662, 0.1662, 0.1662, 0.1662, 0.1662, 0.1662,\n",
       "           0.1662, 0.1662],\n",
       "          [0.1670, 0.1670, 0.1670, 0.1670, 0.1670, 0.1670, 0.1670, 0.1670,\n",
       "           0.1670, 0.1670]],\n",
       " \n",
       "         [[0.1663, 0.1663, 0.1663, 0.1663, 0.1663, 0.1663, 0.1663, 0.1663,\n",
       "           0.1663, 0.1663],\n",
       "          [0.1674, 0.1674, 0.1674, 0.1674, 0.1674, 0.1674, 0.1674, 0.1674,\n",
       "           0.1674, 0.1674],\n",
       "          [0.1655, 0.1655, 0.1655, 0.1655, 0.1655, 0.1655, 0.1655, 0.1655,\n",
       "           0.1655, 0.1655],\n",
       "          [0.1663, 0.1663, 0.1663, 0.1663, 0.1663, 0.1663, 0.1663, 0.1663,\n",
       "           0.1663, 0.1663],\n",
       "          [0.1676, 0.1676, 0.1676, 0.1676, 0.1676, 0.1676, 0.1676, 0.1676,\n",
       "           0.1676, 0.1676],\n",
       "          [0.1669, 0.1669, 0.1669, 0.1669, 0.1669, 0.1669, 0.1669, 0.1669,\n",
       "           0.1669, 0.1669]],\n",
       " \n",
       "         [[0.1644, 0.1644, 0.1644, 0.1644, 0.1644, 0.1644, 0.1644, 0.1644,\n",
       "           0.1644, 0.1644],\n",
       "          [0.1667, 0.1667, 0.1667, 0.1667, 0.1667, 0.1667, 0.1667, 0.1667,\n",
       "           0.1667, 0.1667],\n",
       "          [0.1666, 0.1666, 0.1666, 0.1666, 0.1666, 0.1666, 0.1666, 0.1666,\n",
       "           0.1666, 0.1666],\n",
       "          [0.1679, 0.1679, 0.1679, 0.1679, 0.1679, 0.1679, 0.1679, 0.1679,\n",
       "           0.1679, 0.1679],\n",
       "          [0.1678, 0.1678, 0.1678, 0.1678, 0.1678, 0.1678, 0.1678, 0.1678,\n",
       "           0.1678, 0.1678],\n",
       "          [0.1665, 0.1665, 0.1665, 0.1665, 0.1665, 0.1665, 0.1665, 0.1665,\n",
       "           0.1665, 0.1665]]], device='cuda:0', grad_fn=<StackBackward>),\n",
       " tensor([[0.2386, 0.2453, 0.2349, 0.2483, 0.2402, 0.2359],\n",
       "         [0.2547, 0.2537, 0.2412, 0.2421, 0.2405, 0.2473],\n",
       "         [0.2366, 0.2459, 0.2416, 0.2497, 0.2540, 0.2670]], device='cuda:0',\n",
       "        grad_fn=<AsStridedBackward>))"
      ]
     },
     "execution_count": 38,
     "metadata": {},
     "output_type": "execute_result"
    }
   ],
   "source": [
    "s = Seq2Seq_Coverage(10, 12, 9, 8, Attention=Attention_Concat)\n",
    "s.cuda()\n",
    "input = torch.cuda.LongTensor(np.random.randint(0, 10, (3, 6)))\n",
    "target = torch.cuda.LongTensor(np.random.randint(0, 12, (3, 10)))\n",
    "\n",
    "# without teacher forcing\n",
    "s(input)\n",
    "\n",
    "# with teacher forcing\n",
    "s(input, target)[1]"
   ]
  },
  {
   "cell_type": "code",
   "execution_count": 13,
   "metadata": {},
   "outputs": [],
   "source": [
    "attn_weights = s(input, target)[1]"
   ]
  },
  {
   "cell_type": "code",
   "execution_count": 22,
   "metadata": {},
   "outputs": [
    {
     "data": {
      "text/plain": [
       "tensor([[1.6771, 1.6853, 1.6735, 1.6616, 1.6501, 1.6523],\n",
       "        [1.6756, 1.6592, 1.6739, 1.6866, 1.6606, 1.6441],\n",
       "        [1.6820, 1.6905, 1.6769, 1.6618, 1.6472, 1.6416]], device='cuda:0',\n",
       "       grad_fn=<SumBackward2>)"
      ]
     },
     "execution_count": 22,
     "metadata": {},
     "output_type": "execute_result"
    }
   ],
   "source": [
    "torch.sum(attn_weights, dim=-1)"
   ]
  },
  {
   "cell_type": "code",
   "execution_count": 23,
   "metadata": {},
   "outputs": [
    {
     "data": {
      "text/plain": [
       "tensor([[[0.1677, 0.1677, 0.1677, 0.1677, 0.1677, 0.1677, 0.1677, 0.1677,\n",
       "          0.1677, 0.1677],\n",
       "         [0.1685, 0.1685, 0.1685, 0.1685, 0.1685, 0.1685, 0.1685, 0.1685,\n",
       "          0.1685, 0.1685],\n",
       "         [0.1674, 0.1674, 0.1674, 0.1674, 0.1674, 0.1674, 0.1674, 0.1674,\n",
       "          0.1674, 0.1674],\n",
       "         [0.1662, 0.1662, 0.1662, 0.1662, 0.1662, 0.1662, 0.1662, 0.1662,\n",
       "          0.1662, 0.1662],\n",
       "         [0.1650, 0.1650, 0.1650, 0.1650, 0.1650, 0.1650, 0.1650, 0.1650,\n",
       "          0.1650, 0.1650],\n",
       "         [0.1652, 0.1652, 0.1652, 0.1652, 0.1652, 0.1652, 0.1652, 0.1652,\n",
       "          0.1652, 0.1652]],\n",
       "\n",
       "        [[0.1676, 0.1676, 0.1676, 0.1676, 0.1676, 0.1676, 0.1675, 0.1675,\n",
       "          0.1676, 0.1674],\n",
       "         [0.1660, 0.1660, 0.1660, 0.1660, 0.1660, 0.1660, 0.1659, 0.1659,\n",
       "          0.1659, 0.1658],\n",
       "         [0.1674, 0.1674, 0.1674, 0.1674, 0.1674, 0.1674, 0.1673, 0.1673,\n",
       "          0.1674, 0.1672],\n",
       "         [0.1687, 0.1687, 0.1687, 0.1687, 0.1687, 0.1687, 0.1686, 0.1686,\n",
       "          0.1687, 0.1685],\n",
       "         [0.1661, 0.1661, 0.1661, 0.1661, 0.1661, 0.1661, 0.1660, 0.1660,\n",
       "          0.1661, 0.1659],\n",
       "         [0.1642, 0.1642, 0.1642, 0.1642, 0.1642, 0.1642, 0.1647, 0.1646,\n",
       "          0.1644, 0.1651]],\n",
       "\n",
       "        [[0.1682, 0.1682, 0.1682, 0.1682, 0.1682, 0.1682, 0.1682, 0.1682,\n",
       "          0.1682, 0.1681],\n",
       "         [0.1691, 0.1691, 0.1691, 0.1690, 0.1690, 0.1691, 0.1690, 0.1690,\n",
       "          0.1690, 0.1690],\n",
       "         [0.1677, 0.1677, 0.1677, 0.1677, 0.1677, 0.1677, 0.1677, 0.1677,\n",
       "          0.1677, 0.1676],\n",
       "         [0.1662, 0.1662, 0.1662, 0.1662, 0.1662, 0.1662, 0.1662, 0.1662,\n",
       "          0.1662, 0.1661],\n",
       "         [0.1648, 0.1648, 0.1648, 0.1647, 0.1647, 0.1648, 0.1647, 0.1647,\n",
       "          0.1647, 0.1647],\n",
       "         [0.1640, 0.1640, 0.1640, 0.1643, 0.1642, 0.1640, 0.1642, 0.1643,\n",
       "          0.1642, 0.1644]]], device='cuda:0', grad_fn=<StackBackward>)"
      ]
     },
     "execution_count": 23,
     "metadata": {},
     "output_type": "execute_result"
    }
   ],
   "source": [
    "attn_weights"
   ]
  },
  {
   "cell_type": "code",
   "execution_count": null,
   "metadata": {},
   "outputs": [],
   "source": []
  }
 ],
 "metadata": {
  "kernelspec": {
   "display_name": "AI",
   "language": "python",
   "name": "ai"
  },
  "language_info": {
   "codemirror_mode": {
    "name": "ipython",
    "version": 3
   },
   "file_extension": ".py",
   "mimetype": "text/x-python",
   "name": "python",
   "nbconvert_exporter": "python",
   "pygments_lexer": "ipython3",
   "version": "3.6.6"
  }
 },
 "nbformat": 4,
 "nbformat_minor": 2
}
