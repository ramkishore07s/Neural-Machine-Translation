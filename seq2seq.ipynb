{
 "cells": [
  {
   "cell_type": "code",
   "execution_count": 12,
   "metadata": {},
   "outputs": [],
   "source": [
    "import numpy as np"
   ]
  },
  {
   "cell_type": "code",
   "execution_count": 1,
   "metadata": {},
   "outputs": [],
   "source": [
    "import torch\n",
    "import torch.nn as nn\n",
    "import torch.optim as optim\n",
    "import torch.nn.functional as f"
   ]
  },
  {
   "cell_type": "code",
   "execution_count": 55,
   "metadata": {},
   "outputs": [],
   "source": [
    "class Encoder(nn.Module):\n",
    "    def __init__(self, num_embeddings, embedding_dim, hidden_dim, num_layers, padding_dim=0):\n",
    "        super().__init__()\n",
    "        self.embedding = nn.Embedding(num_embeddings, embedding_dim, padding_dim)\n",
    "        self.encoder = nn.LSTM(embedding_dim, hidden_dim, num_layers, batch_first=True)\n",
    "        \n",
    "    def forward(self, input):\n",
    "        '''\n",
    "        input dim => 2d no_sentences * no_words\n",
    "        make sure that the input is in reverse\n",
    "        \n",
    "        Outputs:\n",
    "        output, h, c\n",
    "        \n",
    "        output => dim: (num_sentences * num_words * hidden_dim)\n",
    "        h => (num_layers * num_sentences * hidden_dim)\n",
    "        c => (num_layers * num_sentences * hidden_dim)\n",
    "        '''\n",
    "        embeddings = self.embedding(input)\n",
    "        output, (h, c) = self.encoder(embeddings)\n",
    "        \n",
    "        return output, h, c"
   ]
  },
  {
   "cell_type": "code",
   "execution_count": 54,
   "metadata": {},
   "outputs": [
    {
     "data": {
      "text/plain": [
       "(torch.Size([2, 5, 10]), torch.Size([3, 2, 10]), torch.Size([3, 2, 10]))"
      ]
     },
     "execution_count": 54,
     "metadata": {},
     "output_type": "execute_result"
    }
   ],
   "source": [
    "enc = Encoder(10, 10, 10, 3)\n",
    "input = torch.LongTensor(np.random.randint(0, 10, (2, 5)))\n",
    "a, b, c = enc(input)\n",
    "a.shape, b.shape, c.shape"
   ]
  },
  {
   "cell_type": "code",
   "execution_count": 161,
   "metadata": {},
   "outputs": [],
   "source": [
    "class Decoder(nn.Module):\n",
    "    def __init__(self, num_embeddings, embedding_dim, hidden_dim, num_layers, padding_dim=0):\n",
    "        super().__init__()\n",
    "        self.embedding = nn.Embedding(num_embeddings, embedding_dim, padding_dim)\n",
    "        self.decoder = nn.LSTM(embedding_dim, hidden_dim, num_layers, batch_first=True)\n",
    "        self.word_predictor = nn.Linear(embedding_dim, num_embeddings)\n",
    "        \n",
    "    def forward(self, output, h, c, input=None):\n",
    "        '''\n",
    "        Output:\n",
    "        pred: (no_sentences * no_words * no_embeddings)\n",
    "        **Note: if input is not None, log_softmax is returned\n",
    "        else, input is returned without softmax**\n",
    "        '''\n",
    "        if input is not None: # training with teacher forcing\n",
    "            embeddings = self.embedding(input)\n",
    "            yts, _ = self.decoder(embeddings, (h, c))\n",
    "            orig_shape = yts.shape\n",
    "            pred = self.word_predictor(yts.reshape(orig_shape[0]*orig_shape[1], -1)).reshape(*orig_shape[:-1], -1)\n",
    "            return torch.softmax(pred, dim=-1)\n",
    "        else:\n",
    "            raise NotImplementedError"
   ]
  },
  {
   "cell_type": "code",
   "execution_count": null,
   "metadata": {},
   "outputs": [],
   "source": []
  }
 ],
 "metadata": {
  "kernelspec": {
   "display_name": "AI",
   "language": "python",
   "name": "ai"
  },
  "language_info": {
   "codemirror_mode": {
    "name": "ipython",
    "version": 3
   },
   "file_extension": ".py",
   "mimetype": "text/x-python",
   "name": "python",
   "nbconvert_exporter": "python",
   "pygments_lexer": "ipython3",
   "version": "3.6.6"
  }
 },
 "nbformat": 4,
 "nbformat_minor": 2
}
