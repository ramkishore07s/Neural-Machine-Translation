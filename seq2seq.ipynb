{
 "cells": [
  {
   "cell_type": "code",
   "execution_count": 2,
   "metadata": {},
   "outputs": [],
   "source": [
    "import numpy as np"
   ]
  },
  {
   "cell_type": "code",
   "execution_count": 3,
   "metadata": {},
   "outputs": [],
   "source": [
    "import torch\n",
    "import torch.nn as nn\n",
    "import torch.optim as optim\n",
    "import torch.nn.functional as f"
   ]
  },
  {
   "cell_type": "code",
   "execution_count": 4,
   "metadata": {},
   "outputs": [],
   "source": [
    "class Encoder(nn.Module):\n",
    "    def __init__(self, num_embeddings, embedding_dim, hidden_dim, num_layers, padding_dim=0):\n",
    "        super().__init__()\n",
    "        self.embedding = nn.Embedding(num_embeddings, embedding_dim, padding_dim)\n",
    "        self.encoder = nn.LSTM(embedding_dim, hidden_dim, num_layers, batch_first=True)\n",
    "        \n",
    "    def forward(self, input):\n",
    "        '''\n",
    "        input dim => 2d no_sentences * no_words\n",
    "        make sure that the input is in reverse\n",
    "        \n",
    "        Outputs:\n",
    "        output, h, c\n",
    "        \n",
    "        output => dim: (num_sentences * num_words * hidden_dim)\n",
    "        h => (num_layers * num_sentences * hidden_dim)\n",
    "        c => (num_layers * num_sentences * hidden_dim)\n",
    "        '''\n",
    "        embeddings = self.embedding(input)\n",
    "        output, (h, c) = self.encoder(embeddings)\n",
    "        \n",
    "        return output, h, c"
   ]
  },
  {
   "cell_type": "code",
   "execution_count": 8,
   "metadata": {},
   "outputs": [],
   "source": [
    "class Decoder(nn.Module):\n",
    "    def __init__(self, num_embeddings, embedding_dim, hidden_dim, num_layers, padding_dim=0, start_dim=1):\n",
    "        super().__init__()\n",
    "        self.embedding = nn.Embedding(num_embeddings, embedding_dim, padding_dim)\n",
    "        self.decoder = nn.LSTM(embedding_dim, hidden_dim, num_layers, batch_first=True)\n",
    "        self.word_predictor = nn.Linear(hidden_dim, num_embeddings)\n",
    "        self.start_dim = start_dim\n",
    "        \n",
    "    def forward(self, output, h, c, input=None, max_sen_len=20):\n",
    "        '''\n",
    "        Output:\n",
    "        pred: (no_sentences * no_words * no_embeddings)\n",
    "        **Note: if input is not None, log_softmax is returned\n",
    "        else, input is returned without softmax**\n",
    "        '''\n",
    "        \n",
    "        if input is not None: # training with teacher forcing\n",
    "            \n",
    "            embeddings = self.embedding(input)\n",
    "            yts, _ = self.decoder(embeddings, (h, c))\n",
    "            orig_shape = yts.shape\n",
    "            pred = self.word_predictor(yts.reshape(orig_shape[0]*orig_shape[1], -1)).reshape(*orig_shape[:-1], -1)\n",
    "            return torch.log_softmax(pred, dim=-1), None\n",
    "        \n",
    "        else: # training using the decoders' own predictions\n",
    "            \n",
    "            num_sentences = output.shape[0]\n",
    "            words_selected = torch.cuda.LongTensor([[self.start_dim] for _ in range(num_sentences)])\n",
    "            pred = []\n",
    "            for i in range(max_sen_len):\n",
    "                embeddings = self.embedding(words_selected)\n",
    "                y_t, (h, c) = self.decoder(embeddings, (h, c))\n",
    "                orig_shape = y_t.shape\n",
    "                pred_t = self.word_predictor(y_t.reshape(orig_shape[0]*orig_shape[1], \n",
    "                                                         -1)).reshape(*orig_shape[:-1], -1).squeeze(1)\n",
    "                pred.append(pred_t)\n",
    "                words_selected = torch.max(pred_t, dim=1)[1].unsqueeze(1)\n",
    "            \n",
    "            pred = torch.stack(pred, dim=1)\n",
    "            return torch.log_softmax(pred, dim=-1), None"
   ]
  },
  {
   "cell_type": "code",
   "execution_count": 10,
   "metadata": {},
   "outputs": [],
   "source": [
    "class Seq2Seq(nn.Module):\n",
    "    def __init__(self, source_vocab_len, target_vocab_len, embedding_dim, hidden_dim, num_layers=1,\n",
    "                       padding_dim_source=0, start_dim_target=1, padding_dim_target=0):\n",
    "        super().__init__()\n",
    "        self.encoder = Encoder(source_vocab_len, embedding_dim, hidden_dim, num_layers, padding_dim_source)\n",
    "        self.decoder = Decoder(target_vocab_len, embedding_dim, hidden_dim, num_layers, padding_dim_target, start_dim_target)\n",
    "        \n",
    "    def forward(self, source_input, target_input=None, source_mask=None):\n",
    "        output, h, c = self.encoder(source_input)\n",
    "        return self.decoder(output, h, c, target_input)"
   ]
  },
  {
   "cell_type": "markdown",
   "metadata": {},
   "source": [
    "**Without teacher forcing**\n",
    "```\n",
    "input = torch.cuda.LongTensor(np.random.randint(0, 10, (3, 6)))\n",
    "s = Seq2Seq(10, 12, 9, 7)\n",
    "s.cuda()\n",
    "pred = s(input)\n",
    "```"
   ]
  },
  {
   "cell_type": "markdown",
   "metadata": {},
   "source": [
    "**With teacher forcing**\n",
    "\n",
    "```\n",
    "tar_input = torch.cuda.LongTensor(np.random.randint(0, 10, (3, 6)))\n",
    "s(input, tar_input).shape\n",
    "```"
   ]
  }
 ],
 "metadata": {
  "kernelspec": {
   "display_name": "AI",
   "language": "python",
   "name": "ai"
  },
  "language_info": {
   "codemirror_mode": {
    "name": "ipython",
    "version": 3
   },
   "file_extension": ".py",
   "mimetype": "text/x-python",
   "name": "python",
   "nbconvert_exporter": "python",
   "pygments_lexer": "ipython3",
   "version": "3.6.6"
  }
 },
 "nbformat": 4,
 "nbformat_minor": 2
}
