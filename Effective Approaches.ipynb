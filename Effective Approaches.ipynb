{
 "cells": [
  {
   "cell_type": "code",
   "execution_count": 1,
   "metadata": {},
   "outputs": [],
   "source": [
    "%run seq2seq.ipynb"
   ]
  },
  {
   "cell_type": "code",
   "execution_count": 2,
   "metadata": {},
   "outputs": [],
   "source": [
    "class Attention_General(nn.Module):\n",
    "    def __init__(self, dim):\n",
    "        super().__init__()\n",
    "        self.bilinear = nn.Bilinear(dim, dim, 1)\n",
    "        \n",
    "    def forward(self, source_h, target_h):\n",
    "        '''\n",
    "        # TODO: repeat copies data, use expand\n",
    "        \n",
    "        source_h => (num_sentences * num_words * embedding_dim)\n",
    "        target_h => (num_sentences * embedding_dim) \n",
    "        '''\n",
    "        num_sentences, num_words = source_h.shape[:-1]\n",
    "        target_h = target_h.repeat(1, num_words).reshape(num_words * num_sentences, -1)\n",
    "        raw_weights = self.bilinear(target_h, source_h.reshape(num_words * num_sentences, \n",
    "                                                               -1)).reshape(num_sentences, num_words)\n",
    "        weights = torch.softmax(f.relu(raw_weights), dim=1)\n",
    "        \n",
    "        return torch.sum(weights.unsqueeze(-1) * source_h, dim=1)"
   ]
  },
  {
   "cell_type": "code",
   "execution_count": 19,
   "metadata": {},
   "outputs": [],
   "source": [
    "class Attention_Dot(nn.Module):\n",
    "    def __init__(self, _):\n",
    "        super().__init__()\n",
    "        \n",
    "    def forward(self, source_h, target_h):\n",
    "        num_sentences, num_words = source_h.shape[:-1]\n",
    "        target_h = target_h.repeat(1, num_words).reshape(num_words * num_sentences, -1)\n",
    "        raw_weights = torch.sum(target_h * source_h.reshape(num_words * num_sentences, -1), dim=1).reshape(num_sentences, num_words)\n",
    "        \n",
    "        weights = torch.softmax(f.relu(raw_weights), dim=1)\n",
    "        return torch.sum(weights.unsqueeze(-1) * source_h, dim=1)"
   ]
  },
  {
   "cell_type": "code",
   "execution_count": 38,
   "metadata": {},
   "outputs": [],
   "source": [
    "class Attention_Concat(nn.Module):\n",
    "    def __init__(self, hidden_dim):\n",
    "        super().__init__()\n",
    "        self.w = nn.Linear(hidden_dim*2, 1)\n",
    "        \n",
    "    def forward(self, source_h, target_h):\n",
    "        num_sentences, num_words = source_h.shape[:-1]\n",
    "        target_h = target_h.repeat(1, num_words).reshape(num_words * num_sentences, -1)\n",
    "        \n",
    "        input = torch.cat((target_h, source_h.reshape(num_words * num_sentences, -1)), dim=1)\n",
    "        raw_weights = self.w(input).reshape(num_sentences, num_words)\n",
    "        \n",
    "        weights = torch.softmax(f.relu(raw_weights), dim=1)\n",
    "        return torch.sum(weights.unsqueeze(-1) * source_h, dim=1)"
   ]
  },
  {
   "cell_type": "markdown",
   "metadata": {},
   "source": [
    "```\n",
    "source_h = torch.Tensor(np.random.randint(0, 10, (2, 4, 10)))\n",
    "target_h = torch.Tensor(np.random.randint(0, 10, (2, 10)))\n",
    "a = Attention_Concat(10)\n",
    "a(source_h, target_h)\n",
    "```"
   ]
  },
  {
   "cell_type": "code",
   "execution_count": 40,
   "metadata": {},
   "outputs": [],
   "source": [
    "class DecoderEffective(nn.Module):\n",
    "    def __init__(self, num_embeddings, embedding_dim, hidden_dim, num_layers, \n",
    "                 padding_dim=0, start_dim=1, Attention=Attention_General):\n",
    "        super().__init__()\n",
    "        self.embedding = nn.Embedding(num_embeddings, embedding_dim, padding_dim)\n",
    "        self.decoder = nn.LSTM(embedding_dim, hidden_dim, num_layers, batch_first=True)\n",
    "        self.word_predictor = nn.Linear(hidden_dim * 2, num_embeddings)\n",
    "        self.start_dim = start_dim\n",
    "        \n",
    "        self.attention = Attention(hidden_dim)\n",
    "        \n",
    "    def forward(self, output, h, c, input=None, max_sen_len=20):\n",
    "        \n",
    "        source_h = output\n",
    "        num_sentences, num_words, hidden_dim = output.shape\n",
    "        words_selected = torch.cuda.LongTensor([[self.start_dim] for _ in range(num_sentences)])\n",
    "\n",
    "        decoder_context = torch.zeros(num_sentences, hidden_dim).cuda()\n",
    "        pred = []\n",
    "        \n",
    "        for i in range(max_sen_len):\n",
    "            embeddings = self.embedding(words_selected)\n",
    "            h_t, (h, c) = self.decoder(embeddings, (h, c))\n",
    "            orig_shape = h_t.shape\n",
    "            \n",
    "            ct = self.attention(source_h, h[-1])\n",
    "            h_t_ = torch.cat((ct, h[-1]), dim=1)\n",
    "            \n",
    "            pred_t = self.word_predictor(h_t_.reshape(orig_shape[0]*orig_shape[1], \n",
    "                                                     -1)).reshape(*orig_shape[:-1], -1).squeeze(1)\n",
    "            pred.append(pred_t)\n",
    "            decoder_context = self.attention(source_h, h[-1])\n",
    "            \n",
    "            if input == None:\n",
    "                words_selected = torch.max(pred_t, dim=1)[1].unsqueeze(1)\n",
    "            else:\n",
    "                raise NotImplementedError\n",
    "\n",
    "\n",
    "        pred = torch.stack(pred, dim=1)\n",
    "        return torch.log_softmax(pred, dim=-1)"
   ]
  },
  {
   "cell_type": "code",
   "execution_count": 44,
   "metadata": {},
   "outputs": [],
   "source": [
    "class Seq2Seq_EffectiveApproaches(nn.Module):\n",
    "    def __init__(self, source_vocab_len, target_vocab_len, embedding_dim, hidden_dim,\n",
    "                       start_dim=1, padding_dim=0, num_layers=1, Attention=Attention_General):\n",
    "        super().__init__()\n",
    "        self.encoder = Encoder(source_vocab_len, embedding_dim, hidden_dim, num_layers, padding_dim)\n",
    "        self.decoder = DecoderEffective(target_vocab_len, embedding_dim, hidden_dim, num_layers, \n",
    "                                        padding_dim, start_dim, Attention=Attention)\n",
    "        \n",
    "    def forward(self, source_input, target_input=None):\n",
    "        output, h, c = self.encoder(source_input)\n",
    "        return self.decoder(output, h, c, target_input)"
   ]
  },
  {
   "cell_type": "markdown",
   "metadata": {},
   "source": [
    "```\n",
    "s = Seq2Seq_EffectiveApproaches(10, 12, 9, 8, Attention=Attention_Concat)\n",
    "s.cuda()\n",
    "input = torch.cuda.LongTensor(np.random.randint(0, 10, (3, 6)))\n",
    "s(input).shape\n",
    "```"
   ]
  }
 ],
 "metadata": {
  "kernelspec": {
   "display_name": "AI",
   "language": "python",
   "name": "ai"
  },
  "language_info": {
   "codemirror_mode": {
    "name": "ipython",
    "version": 3
   },
   "file_extension": ".py",
   "mimetype": "text/x-python",
   "name": "python",
   "nbconvert_exporter": "python",
   "pygments_lexer": "ipython3",
   "version": "3.6.6"
  }
 },
 "nbformat": 4,
 "nbformat_minor": 2
}
